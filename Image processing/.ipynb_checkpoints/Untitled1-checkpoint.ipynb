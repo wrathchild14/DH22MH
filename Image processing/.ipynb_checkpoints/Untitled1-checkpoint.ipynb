{
 "cells": [
  {
   "cell_type": "code",
   "execution_count": 1,
   "id": "e5c95c16",
   "metadata": {},
   "outputs": [],
   "source": [
    "import cv2\n",
    "import numpy as np\n",
    "import matplotlib.pyplot as plt\n",
    "import scipy\n",
    "from scipy import signal as scps\n",
    "import os\n",
    "import csv\n",
    "import pytesseract\n"
   ]
  },
  {
   "cell_type": "code",
   "execution_count": 2,
   "id": "d6ed030b",
   "metadata": {},
   "outputs": [],
   "source": [
    "manga1 = cv2.imread(\"manga1.jpg\")\n",
    "manga2 = cv2.imread(\"image1.jpg\")"
   ]
  },
  {
   "cell_type": "code",
   "execution_count": 3,
   "id": "a53485bc",
   "metadata": {},
   "outputs": [],
   "source": [
    "def findSpeechBubbles(binary):\n",
    "    # Convert image to gray scale\n",
    "    \n",
    "    # Find contours and document their heirarchy for later\n",
    "    contours, hierarchy = cv2.findContours(binary,cv2.RETR_TREE,cv2.CHAIN_APPROX_SIMPLE)\n",
    "    contourMap = {}\n",
    "    finalContourList = []\n",
    "\n",
    "    contourMap = filterContoursBySize(contours)\n",
    "    contourMap = filterContainingContours(contourMap, hierarchy)\n",
    "\n",
    "    # Sort final contour list\n",
    "    finalContourList = list(contourMap.values())\n",
    "    finalContourList.sort(key=lambda x:get_contour_precedence(x, binary.shape[1]))\n",
    "\n",
    "    return finalContourList\n",
    "\n",
    "def filterContoursBySize(contours):\n",
    "    # We could pass this in and update it by reference, but I prefer this sort of 'immutable' handling.\n",
    "    contourMap = {}\n",
    "\n",
    "    for i in range(len(contours)):\n",
    "        # Filter out speech bubble candidates with unreasonable size\n",
    "        if cv2.contourArea(contours[i]) < 120000 and cv2.contourArea(contours[i]) > 4000:\n",
    "            # Smooth out contours that were found\n",
    "            epsilon = 0.0025*cv2.arcLength(contours[i], True)\n",
    "            approximatedContour = cv2.approxPolyDP(contours[i], epsilon, True)\n",
    "            contourMap[i] = approximatedContour\n",
    "\n",
    "    return contourMap\n",
    "\n",
    "# Sometimes the contour algorithm identifies entire panels, which can contain speech bubbles already\n",
    "#  identified causing us to parse them twice via OCR. This method attempts to remove contours that \n",
    "#  contain other speech bubble candidate contours completely inside of them.\n",
    "def filterContainingContours(contourMap, hierarchy):\n",
    "    # I really wish there was a better way to do this than this O(n^2) removal of all parents in\n",
    "    #  the heirarchy of a contour, but with the number of contours found this is the only way I can\n",
    "    #  think of to do this.\n",
    "    for i in list(contourMap.keys()):\n",
    "        currentIndex = i\n",
    "        while hierarchy[0][currentIndex][3] > 0:\n",
    "            if hierarchy[0][currentIndex][3] in contourMap.keys():\n",
    "                contourMap.pop(hierarchy[0][currentIndex][3])\n",
    "            currentIndex = hierarchy[0][currentIndex][3]\n",
    "\n",
    "    # I'd prefer to handle this 'immutably' like above, but I'd rather not make an unnecessary copy of the dict.\n",
    "    return contourMap\n",
    "\n",
    "def get_contour_precedence(contour, cols):\n",
    "    tolerance_factor = 200\n",
    "    origin = cv2.boundingRect(contour)\n",
    "    return ((origin[1] // tolerance_factor) * tolerance_factor) * cols + origin[0]"
   ]
  },
  {
   "cell_type": "code",
   "execution_count": 27,
   "id": "352c479e",
   "metadata": {},
   "outputs": [],
   "source": [
    "def resize(img):\n",
    "    scale_percent = 35 # percent of original size\n",
    "    width = int(img.shape[1] * scale_percent / 100)\n",
    "    height = int(img.shape[0] * scale_percent / 100)\n",
    "    dim = (width, height)\n",
    "\n",
    "    # resize image\n",
    "    resized = cv2.resize(img, dim, interpolation = cv2.INTER_AREA)\n",
    "    return resized"
   ]
  },
  {
   "cell_type": "code",
   "execution_count": 11,
   "id": "3aa1ea3a",
   "metadata": {},
   "outputs": [
    {
     "data": {
      "text/plain": [
       "\"\\nbubbles = findSpeechBubbles(binary)\\n\\ncv2.drawContours(im_gray, bubbles, -1, (0, 0, 255), 3)\\ncv2.imshow('ImageWindow', im_gray)\\n\\n\\n\\ncv2.waitKey()\\n\\nfor c in bubbles:\\n    rect = cv2.boundingRect(c)\\n    [x, y, w, h] = rect\\n    croppedImage = manga2[y:y+h, x:x+w]\\n    cv2.imshow('ImageWindow', croppedImage)\\n    cv2.waitKey()\""
      ]
     },
     "execution_count": 11,
     "metadata": {},
     "output_type": "execute_result"
    }
   ],
   "source": [
    "\n",
    "img = cv2.imread('image1.jpg', cv2.IMREAD_UNCHANGED)\n",
    "\n",
    "\n",
    "dst = cv2.GaussianBlur(img,(5,5),cv2.BORDER_DEFAULT)\n",
    "\n",
    "\n",
    "\n",
    " \n",
    "scale_percent = 35 # percent of original size\n",
    "width = int(img.shape[1] * scale_percent / 100)\n",
    "height = int(img.shape[0] * scale_percent / 100)\n",
    "dim = (width, height)\n",
    "  \n",
    "# resize image\n",
    "resized = cv2.resize(dst, dim, interpolation = cv2.INTER_AREA)\n",
    "\n",
    "cv2.imshow('ImageWindow', resized)\n",
    "cv2.waitKey()\n",
    "\n",
    "im_gray = cv2.cvtColor(resized, cv2.COLOR_BGR2GRAY)\n",
    "binary = cv2.threshold(im_gray,170,255,cv2.THRESH_BINARY)[1]\n",
    "\n",
    "\n",
    "\"\"\"\n",
    "bubbles = findSpeechBubbles(binary)\n",
    "\n",
    "cv2.drawContours(im_gray, bubbles, -1, (0, 0, 255), 3)\n",
    "cv2.imshow('ImageWindow', im_gray)\n",
    "\n",
    "\n",
    "\n",
    "cv2.waitKey()\n",
    "\n",
    "for c in bubbles:\n",
    "    rect = cv2.boundingRect(c)\n",
    "    [x, y, w, h] = rect\n",
    "    croppedImage = manga2[y:y+h, x:x+w]\n",
    "    cv2.imshow('ImageWindow', croppedImage)\n",
    "    cv2.waitKey()\"\"\"\n",
    "\n",
    "    "
   ]
  },
  {
   "cell_type": "code",
   "execution_count": 40,
   "id": "c71dd78e",
   "metadata": {},
   "outputs": [
    {
     "name": "stdout",
     "output_type": "stream",
     "text": [
      "¥\n",
      "THE\n",
      "DAMN\n",
      "THING\n",
      "MOVED\n",
      "AS\n",
      "SOON\n",
      "AG\n",
      "IT\n",
      "FIRED.\n"
     ]
    }
   ],
   "source": [
    "from pytesseract import Output\n",
    "\n",
    "rgb = cv2.imread(\"proba1.png\", cv2.IMREAD_UNCHANGED)\n",
    "#rgb = cv2.cvtColor(image, cv2.COLOR_BGR2RGB)\n",
    "\n",
    "#rgb1 = preprocess(rgb)\n",
    "\n",
    "results = pytesseract.image_to_data(rgb, output_type=Output.DICT)\n",
    "\n",
    "# loop over each of the individual text localizations\n",
    "for i in range(0, len(results[\"text\"])):\n",
    "# extract the bounding box coordinates of the text region from\n",
    "# the current result\n",
    "    x = results[\"left\"][i]\n",
    "    y = results[\"top\"][i]\n",
    "    w = results[\"width\"][i]\n",
    "    h = results[\"height\"][i]\n",
    "    \n",
    "    \n",
    "    # extract the OCR text itself along with the confidence of the\n",
    "    # text localization\n",
    "    text = results[\"text\"][i]\n",
    "    if(len(text.strip()) > 0):\n",
    "        \"\"\"croppedImage = rgb[y:y+h, x:x+w]\n",
    "        cv2.imshow('ImageWindow', croppedImage)\n",
    "        cv2.waitKey()\"\"\"\n",
    "        print(text)\n",
    "    "
   ]
  },
  {
   "cell_type": "code",
   "execution_count": null,
   "id": "6b7ab3f1",
   "metadata": {},
   "outputs": [],
   "source": []
  }
 ],
 "metadata": {
  "kernelspec": {
   "display_name": "Python 3 (ipykernel)",
   "language": "python",
   "name": "python3"
  },
  "language_info": {
   "codemirror_mode": {
    "name": "ipython",
    "version": 3
   },
   "file_extension": ".py",
   "mimetype": "text/x-python",
   "name": "python",
   "nbconvert_exporter": "python",
   "pygments_lexer": "ipython3",
   "version": "3.7.4"
  }
 },
 "nbformat": 4,
 "nbformat_minor": 5
}
