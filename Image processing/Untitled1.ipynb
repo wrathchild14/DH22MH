{
 "cells": [
  {
   "cell_type": "code",
   "execution_count": 4,
   "id": "e5c95c16",
   "metadata": {},
   "outputs": [],
   "source": [
    "import cv2\n",
    "import numpy as np\n",
    "import matplotlib.pyplot as plt\n",
    "import scipy\n",
    "from scipy import signal as scps\n",
    "import os\n",
    "import csv\n",
    "import pytesseract\n"
   ]
  },
  {
   "cell_type": "code",
   "execution_count": 5,
   "id": "d6ed030b",
   "metadata": {},
   "outputs": [],
   "source": [
    "manga1 = cv2.imread(\"manga1.jpg\")"
   ]
  },
  {
   "cell_type": "code",
   "execution_count": 2,
   "id": "a53485bc",
   "metadata": {},
   "outputs": [],
   "source": [
    "def findSpeechBubbles(image):\n",
    "    # Convert image to gray scale\n",
    "    imageGray = cv2.cvtColor(image, cv2.COLOR_BGR2GRAY)\n",
    "    # Recognizes rectangular/circular bubbles, struggles with dark colored bubbles \n",
    "    binary = cv2.threshold(imageGray,235,255,cv2.THRESH_BINARY)[1]\n",
    "    # Find contours and document their heirarchy for later\n",
    "    contours, hierarchy = cv2.findContours(binary,cv2.RETR_TREE,cv2.CHAIN_APPROX_SIMPLE)\n",
    "    contourMap = {}\n",
    "    finalContourList = []\n",
    "\n",
    "    contourMap = filterContoursBySize(contours)\n",
    "    contourMap = filterContainingContours(contourMap, hierarchy)\n",
    "\n",
    "    # Sort final contour list\n",
    "    finalContourList = list(contourMap.values())\n",
    "    finalContourList.sort(key=lambda x:get_contour_precedence(x, binary.shape[1]))\n",
    "\n",
    "    return finalContourList\n",
    "\n",
    "def filterContoursBySize(contours):\n",
    "    # We could pass this in and update it by reference, but I prefer this sort of 'immutable' handling.\n",
    "    contourMap = {}\n",
    "\n",
    "    for i in range(len(contours)):\n",
    "        # Filter out speech bubble candidates with unreasonable size\n",
    "        if cv2.contourArea(contours[i]) < 120000 and cv2.contourArea(contours[i]) > 4000:\n",
    "            # Smooth out contours that were found\n",
    "            epsilon = 0.0025*cv2.arcLength(contours[i], True)\n",
    "            approximatedContour = cv2.approxPolyDP(contours[i], epsilon, True)\n",
    "            contourMap[i] = approximatedContour\n",
    "\n",
    "    return contourMap\n",
    "\n",
    "# Sometimes the contour algorithm identifies entire panels, which can contain speech bubbles already\n",
    "#  identified causing us to parse them twice via OCR. This method attempts to remove contours that \n",
    "#  contain other speech bubble candidate contours completely inside of them.\n",
    "def filterContainingContours(contourMap, hierarchy):\n",
    "    # I really wish there was a better way to do this than this O(n^2) removal of all parents in\n",
    "    #  the heirarchy of a contour, but with the number of contours found this is the only way I can\n",
    "    #  think of to do this.\n",
    "    for i in list(contourMap.keys()):\n",
    "        currentIndex = i\n",
    "        while hierarchy[0][currentIndex][3] > 0:\n",
    "            if hierarchy[0][currentIndex][3] in contourMap.keys():\n",
    "                contourMap.pop(hierarchy[0][currentIndex][3])\n",
    "            currentIndex = hierarchy[0][currentIndex][3]\n",
    "\n",
    "    # I'd prefer to handle this 'immutably' like above, but I'd rather not make an unnecessary copy of the dict.\n",
    "    return contourMap\n",
    "\n",
    "def get_contour_precedence(contour, cols):\n",
    "    tolerance_factor = 200\n",
    "    origin = cv2.boundingRect(contour)\n",
    "    return ((origin[1] // tolerance_factor) * tolerance_factor) * cols + origin[0]"
   ]
  },
  {
   "cell_type": "code",
   "execution_count": 11,
   "id": "3aa1ea3a",
   "metadata": {},
   "outputs": [
    {
     "data": {
      "text/plain": [
       "-1"
      ]
     },
     "execution_count": 11,
     "metadata": {},
     "output_type": "execute_result"
    }
   ],
   "source": [
    "bubbles = findSpeechBubbles(manga1)\n",
    "cv2.drawContours(manga1, bubbles, -1, (0, 255, 0), 3)\n",
    "cv2.imshow('ImageWindow', manga1)\n",
    "cv2.waitKey()"
   ]
  },
  {
   "cell_type": "code",
   "execution_count": null,
   "id": "c71dd78e",
   "metadata": {},
   "outputs": [],
   "source": []
  }
 ],
 "metadata": {
  "kernelspec": {
   "display_name": "Python 3 (ipykernel)",
   "language": "python",
   "name": "python3"
  },
  "language_info": {
   "codemirror_mode": {
    "name": "ipython",
    "version": 3
   },
   "file_extension": ".py",
   "mimetype": "text/x-python",
   "name": "python",
   "nbconvert_exporter": "python",
   "pygments_lexer": "ipython3",
   "version": "3.7.4"
  }
 },
 "nbformat": 4,
 "nbformat_minor": 5
}
