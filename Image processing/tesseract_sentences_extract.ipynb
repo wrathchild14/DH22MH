{
 "cells": [
  {
   "cell_type": "code",
   "execution_count": 7,
   "metadata": {},
   "outputs": [],
   "source": [
    "import cv2\n",
    "import pytesseract"
   ]
  },
  {
   "cell_type": "code",
   "execution_count": 24,
   "metadata": {},
   "outputs": [],
   "source": [
    "raw_text = pytesseract.image_to_string(cv2.imread(\"images/image2.jpg\"), lang=\"eng\")\n",
    "\n",
    "string = ''\n",
    "sentences = []\n",
    "\n",
    "for t in raw_text.split('\\n'):\n",
    "    string += \" \" + t\n",
    "    if t == '':\n",
    "        sentences.append(string)\n",
    "        string = ''    "
   ]
  },
  {
   "cell_type": "code",
   "execution_count": 25,
   "metadata": {},
   "outputs": [
    {
     "data": {
      "text/plain": [
       "[' DID YOU SEE THE RAT, JOSUKE?P ',\n",
       " ' aly ',\n",
       " ' P THE DAMN \\\\ THING \\\\ aor WOVEDIAS A ON s1 4 ',\n",
       " ' TLL TRY CIRCLING AROUND AS ',\n",
       " ' SOON AS IT / Ck ',\n",
       " ' FIND THE RAT THE MOMENT ',\n",
       " ' IT FIRES. ',\n",
       " ' os 24 2 ie ',\n",
       " ' ']"
      ]
     },
     "execution_count": 25,
     "metadata": {},
     "output_type": "execute_result"
    }
   ],
   "source": [
    "sentences"
   ]
  }
 ],
 "metadata": {
  "interpreter": {
   "hash": "caad1b215b1cc9cbf609f59a3ce33ffe1de9ffecbb59aa19509f287630de9546"
  },
  "kernelspec": {
   "display_name": "Python 3.10.2 64-bit",
   "language": "python",
   "name": "python3"
  },
  "language_info": {
   "codemirror_mode": {
    "name": "ipython",
    "version": 3
   },
   "file_extension": ".py",
   "mimetype": "text/x-python",
   "name": "python",
   "nbconvert_exporter": "python",
   "pygments_lexer": "ipython3",
   "version": "3.10.2"
  },
  "orig_nbformat": 4
 },
 "nbformat": 4,
 "nbformat_minor": 2
}
