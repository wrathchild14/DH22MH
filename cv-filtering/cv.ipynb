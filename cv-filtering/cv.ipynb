{
 "cells": [
  {
   "cell_type": "code",
   "execution_count": 1,
   "id": "7886b2b9",
   "metadata": {},
   "outputs": [
    {
     "ename": "IndexError",
     "evalue": "list index out of range",
     "output_type": "error",
     "traceback": [
      "\u001b[1;31m---------------------------------------------------------------------------\u001b[0m",
      "\u001b[1;31mIndexError\u001b[0m                                Traceback (most recent call last)",
      "\u001b[1;32m~\\AppData\\Local\\Temp/ipykernel_6808/1592450950.py\u001b[0m in \u001b[0;36m<module>\u001b[1;34m\u001b[0m\n\u001b[0;32m     42\u001b[0m \u001b[1;31m#da dobijes listu reci\u001b[0m\u001b[1;33m\u001b[0m\u001b[1;33m\u001b[0m\u001b[1;33m\u001b[0m\u001b[0m\n\u001b[0;32m     43\u001b[0m \u001b[0msk\u001b[0m \u001b[1;33m=\u001b[0m \u001b[1;34m\"Skills: \"\u001b[0m\u001b[1;33m\u001b[0m\u001b[1;33m\u001b[0m\u001b[0m\n\u001b[1;32m---> 44\u001b[1;33m \u001b[0msk\u001b[0m \u001b[1;33m+=\u001b[0m \u001b[0mcvs\u001b[0m\u001b[1;33m[\u001b[0m\u001b[1;36m4\u001b[0m\u001b[1;33m]\u001b[0m\u001b[1;33m.\u001b[0m\u001b[0msplit\u001b[0m\u001b[1;33m(\u001b[0m\u001b[1;34m\"  \"\u001b[0m\u001b[1;33m)\u001b[0m\u001b[1;33m[\u001b[0m\u001b[1;36m43\u001b[0m\u001b[1;33m]\u001b[0m \u001b[1;33m+\u001b[0m \u001b[1;34m\" \"\u001b[0m\u001b[1;33m\u001b[0m\u001b[1;33m\u001b[0m\u001b[0m\n\u001b[0m\u001b[0;32m     45\u001b[0m \u001b[0msk\u001b[0m \u001b[1;33m+=\u001b[0m \u001b[0mcvs\u001b[0m\u001b[1;33m[\u001b[0m\u001b[1;36m4\u001b[0m\u001b[1;33m]\u001b[0m\u001b[1;33m.\u001b[0m\u001b[0msplit\u001b[0m\u001b[1;33m(\u001b[0m\u001b[1;34m\"  \"\u001b[0m\u001b[1;33m)\u001b[0m\u001b[1;33m[\u001b[0m\u001b[1;36m45\u001b[0m\u001b[1;33m]\u001b[0m \u001b[1;33m+\u001b[0m \u001b[1;34m\" Programming Languages: \"\u001b[0m\u001b[1;33m\u001b[0m\u001b[1;33m\u001b[0m\u001b[0m\n\u001b[0;32m     46\u001b[0m \u001b[0msk\u001b[0m \u001b[1;33m+=\u001b[0m \u001b[0mcvs\u001b[0m\u001b[1;33m[\u001b[0m\u001b[1;36m4\u001b[0m\u001b[1;33m]\u001b[0m\u001b[1;33m.\u001b[0m\u001b[0msplit\u001b[0m\u001b[1;33m(\u001b[0m\u001b[1;34m\"  \"\u001b[0m\u001b[1;33m)\u001b[0m\u001b[1;33m[\u001b[0m\u001b[1;36m48\u001b[0m\u001b[1;33m]\u001b[0m\u001b[1;33m\u001b[0m\u001b[1;33m\u001b[0m\u001b[0m\n",
      "\u001b[1;31mIndexError\u001b[0m: list index out of range"
     ]
    }
   ],
   "source": [
    "import PyPDF2 as pdf\n",
    "import slate3k as slate\n",
    "import os \n",
    "\n",
    "directory = 'cvs'\n",
    "\n",
    "#lista sa cvs iz foldera\n",
    "cvs = []\n",
    "\n",
    "for filename in os.listdir(directory):\n",
    "    f = os.path.join(directory, filename)\n",
    "    # checking if it is a file\n",
    "    if os.path.isfile(f):\n",
    "        with open(f, 'rb') as f:\n",
    "            extracted_text = slate.PDF(f)\n",
    "            t = extracted_text[0]\n",
    "            t2 = t.replace(\"\\n\", \" \")\n",
    "            t2 = t2.replace(\"–\", \"-\")\n",
    "            cvs.append(t2)\n",
    "#skills 43\n",
    "#datum 2 20\n",
    "#datum 1 9\n",
    "\n",
    "def godine_rada(date):\n",
    "    date1,date2 = date.split(\"-\")\n",
    "    godina1 = date1.split(\"/\")[1]\n",
    "    godina2 = date2.split(\"/\")[1]\n",
    "    god = abs(int(godina1.strip()[-2:]) - int(godina2.strip()[-2:]))\n",
    "    return god\n",
    "\n",
    "def seniority(cv):\n",
    "    first_work = cv.split(\"  \")[9]\n",
    "    second_work = cv.split(\"  \")[20]\n",
    "    all_years = godine_rada(first_work) + godine_rada(second_work)\n",
    "    if(all_years < 3):\n",
    "        return \"Junior\"\n",
    "    elif(3 < all_years < 6):\n",
    "        return \"Mid\"\n",
    "    else:\n",
    "        return \"Senior\"\n",
    "    \n",
    "#da dobijes listu reci\n",
    "sk = \"Skills: \"\n",
    "sk += cvs[4].split(\"  \")[41] + \" \"\n",
    "sk += cvs[4].split(\"  \")[43] + \" Programming Languages: \"\n",
    "sk += cvs[4].split(\"  \")[45]\n",
    "print(sk)\n",
    "#da dobijes skills na primer (imas gore indexe)\n",
    "#skills = prvi_cv[43]\n",
    "\n",
    "#index za programming languages je 48 ako je na 43 skills - bez spacea\n",
    "#cvs[4].split(\"  \")\n",
    "\n",
    "\n",
    "    \n"
   ]
  },
  {
   "cell_type": "code",
   "execution_count": null,
   "id": "3fb88cde",
   "metadata": {},
   "outputs": [],
   "source": [
    "\n"
   ]
  }
 ],
 "metadata": {
  "kernelspec": {
   "display_name": "Python 3 (ipykernel)",
   "language": "python",
   "name": "python3"
  },
  "language_info": {
   "codemirror_mode": {
    "name": "ipython",
    "version": 3
   },
   "file_extension": ".py",
   "mimetype": "text/x-python",
   "name": "python",
   "nbconvert_exporter": "python",
   "pygments_lexer": "ipython3",
   "version": "3.7.4"
  }
 },
 "nbformat": 4,
 "nbformat_minor": 5
}
