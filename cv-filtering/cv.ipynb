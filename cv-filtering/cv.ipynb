{
 "cells": [
  {
   "cell_type": "code",
   "execution_count": 4,
   "id": "7886b2b9",
   "metadata": {},
   "outputs": [
    {
     "name": "stdout",
     "output_type": "stream",
     "text": [
      " + 386 70434331\n"
     ]
    }
   ],
   "source": [
    "import PyPDF2 as pdf\n",
    "import slate3k as slate\n",
    "import os \n",
    "\n",
    "directory = 'cvs'\n",
    "\n",
    "#lista sa cvs iz foldera\n",
    "cvs = []\n",
    "\n",
    "for filename in os.listdir(directory):\n",
    "    f = os.path.join(directory, filename)\n",
    "    # checking if it is a file\n",
    "    if os.path.isfile(f):\n",
    "        with open(f, 'rb') as f:\n",
    "            extracted_text = slate.PDF(f)\n",
    "            t = extracted_text[0]\n",
    "            t2 = t.replace(\"\\n\", \" \")\n",
    "            t2 = t2.replace(\"–\", \"-\")\n",
    "            cvs.append(t2)\n",
    "#skills 43\n",
    "#datum 2 20\n",
    "#datum 1 9\n",
    "\n",
    "def godine_rada(date):\n",
    "    date1,date2 = date.split(\"-\")\n",
    "    godina1 = date1.split(\"/\")[1]\n",
    "    godina2 = date2.split(\"/\")[1]\n",
    "    god = abs(int(godina1.strip()[-2:]) - int(godina2.strip()[-2:]))\n",
    "    return god\n",
    "\n",
    "def seniority(cv):\n",
    "    first_work = cv.split(\"  \")[7]\n",
    "    second_work = cv.split(\"  \")[18]\n",
    "    all_years = godine_rada(first_work) + godine_rada(second_work)\n",
    "    if(all_years < 3):\n",
    "        return \"Junior\"\n",
    "    elif(3 < all_years < 6):\n",
    "        return \"Mid\"\n",
    "    else:\n",
    "        return \"Senior\"\n",
    "    \n",
    "def name(cv):\n",
    "    return cv.split(\"  \")[0]\n",
    "\n",
    "def email(cv):\n",
    "    a, mail = cv.split(\"  \")[3].strip().split(\" \")\n",
    "    return mail\n",
    "\n",
    "def faculty(cv):\n",
    "    return cv.split(\"  \")[37] + \" \" + cv.split(\"  \")[38]\n",
    "\n",
    "def address(cv):\n",
    "    return cv.split(\"  \")[1].split(\":\")[1].strip()\n",
    "\n",
    "def pr_lang(cv):\n",
    "    l = cv.split(\"  \")[45].split(\",\")\n",
    "    return [i.strip() for i in l]\n",
    "\n",
    "def phone(cv):\n",
    "    return cv.split(\"  \")[2].split(\":\")[1]\n",
    "    \n",
    "    \n",
    "#da dobijes listu reci\n",
    "\"\"\"sk = \"Skills: \"\n",
    "sk += cvs[4].split(\"  \")[41] + \" \"\n",
    "sk += cvs[4].split(\"  \")[43] + \" Programming Languages: \"\n",
    "sk += cvs[4].split(\"  \")[45]\n",
    "print(sk)\"\"\"\n",
    "\n",
    "#da dobijes skills na primer (imas gore indexe)\n",
    "#skills = prvi_cv[43]\n",
    "\n",
    "#index za programming languages je 48 ako je na 43 skills - bez spacea\n",
    "#cvs[4].split(\"  \")\n",
    "    \n"
   ]
  },
  {
   "cell_type": "code",
   "execution_count": null,
   "id": "3fb88cde",
   "metadata": {},
   "outputs": [],
   "source": [
    "\n"
   ]
  }
 ],
 "metadata": {
  "kernelspec": {
   "display_name": "Python 3 (ipykernel)",
   "language": "python",
   "name": "python3"
  },
  "language_info": {
   "codemirror_mode": {
    "name": "ipython",
    "version": 3
   },
   "file_extension": ".py",
   "mimetype": "text/x-python",
   "name": "python",
   "nbconvert_exporter": "python",
   "pygments_lexer": "ipython3",
   "version": "3.7.4"
  }
 },
 "nbformat": 4,
 "nbformat_minor": 5
}
